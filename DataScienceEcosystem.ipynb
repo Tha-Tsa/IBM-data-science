{
 "cells": [
  {
   "cell_type": "markdown",
   "id": "b53f1f0f-e200-490d-b323-323543b3cb87",
   "metadata": {
    "tags": []
   },
   "source": [
    "# Data Science Tools and Ecosystem"
   ]
  },
  {
   "cell_type": "markdown",
   "id": "d18603ba-a4db-464d-ba1b-487c72468cca",
   "metadata": {},
   "source": [
    "In this notebook, Data Science Tools and Ecosystem are summarized.\n"
   ]
  },
  {
   "cell_type": "markdown",
   "id": "730b319c-19ab-4954-948d-939df79876ed",
   "metadata": {},
   "source": [
    "Some of the popular languages that Data Scientists use are: \n",
    "1. Python \n",
    "2. R \n",
    "3. Julia"
   ]
  },
  {
   "cell_type": "markdown",
   "id": "7266df24-ed04-40c1-aba6-d3fff3d360b2",
   "metadata": {},
   "source": [
    "**Objectives:** \n",
    "- List  popular languages in Data science \n",
    "- List popular python libraries in Data science\n",
    "- List of popular Data science tools"
   ]
  },
  {
   "cell_type": "markdown",
   "id": "b3f87c94-b6da-4ff8-bef1-eae54ceff975",
   "metadata": {},
   "source": [
    "Some of the commonly used libraries used by Data Scientists include:\n",
    "1. Pandas\n",
    "2. Numpy\n",
    "3. matplotlib"
   ]
  },
  {
   "cell_type": "markdown",
   "id": "ab16a657-224c-480c-a4c1-cc1938ae2e9e",
   "metadata": {},
   "source": [
    "| Data Science Tools |\n",
    "|--------|\n",
    "| Kubernetes  |\n",
    "| Visual Studio Code |\n",
    "| MySQL  |"
   ]
  },
  {
   "cell_type": "markdown",
   "id": "3ea0f61d-81bb-4aea-8cfa-a4107249a1a7",
   "metadata": {},
   "source": [
    "### Below are a few examples of evaluating arithmetic expressions in Python"
   ]
  },
  {
   "cell_type": "code",
   "execution_count": 1,
   "id": "cf96cd05-4abf-4477-9016-5707c87dfecb",
   "metadata": {
    "tags": []
   },
   "outputs": [
    {
     "data": {
      "text/plain": [
       "17"
      ]
     },
     "execution_count": 1,
     "metadata": {},
     "output_type": "execute_result"
    }
   ],
   "source": [
    "#This a simple arithmetic expression to mutiply then add integers\n",
    "(3*4)+5"
   ]
  },
  {
   "cell_type": "code",
   "execution_count": 3,
   "id": "1e47635b-e752-4db5-b664-41e8b58bd8c5",
   "metadata": {
    "tags": []
   },
   "outputs": [
    {
     "data": {
      "text/plain": [
       "3.3333333333333335"
      ]
     },
     "execution_count": 3,
     "metadata": {},
     "output_type": "execute_result"
    }
   ],
   "source": [
    "#This will convert 200 minutes to hours by diving by 60\n",
    "200/60"
   ]
  },
  {
   "cell_type": "markdown",
   "id": "48169be0-e285-4912-b2b5-fb273aab19a9",
   "metadata": {},
   "source": [
    "## Author: \n",
    "Athanasios Tsantaris"
   ]
  },
  {
   "cell_type": "code",
   "execution_count": null,
   "id": "e09e8d7e-08d2-4c7f-9f08-19bf2eb5d8ce",
   "metadata": {},
   "outputs": [],
   "source": []
  }
 ],
 "metadata": {
  "kernelspec": {
   "display_name": "Python",
   "language": "python",
   "name": "conda-env-python-py"
  },
  "language_info": {
   "codemirror_mode": {
    "name": "ipython",
    "version": 3
   },
   "file_extension": ".py",
   "mimetype": "text/x-python",
   "name": "python",
   "nbconvert_exporter": "python",
   "pygments_lexer": "ipython3",
   "version": "3.7.12"
  }
 },
 "nbformat": 4,
 "nbformat_minor": 5
}
